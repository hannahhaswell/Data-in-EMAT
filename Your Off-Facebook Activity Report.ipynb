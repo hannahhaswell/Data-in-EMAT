{
 "cells": [
  {
   "cell_type": "markdown",
   "metadata": {},
   "source": [
    "<center><h1>\"your_off-facebook_activity Report</h1></center><br>\n",
    "EMAT 22110 - Data in Emerging Media and Technology <br>\n",
    "Author: Hannah Haswell <br>\n",
    "Created: 2/23/21 <br>\n",
    "Last Updated: 3/2/21"
   ]
  },
  {
   "cell_type": "markdown",
   "metadata": {},
   "source": [
    "## Purpose\n",
    "\n",
    "In this data report, I will be analyzing a my Facebook data. I chose the file, \"your_off-facebook_activity\" file to dig into and reflect on. I will show a variety of analyses and displays of data that we will be able to draw conclusions from about my off Facebook activity."
   ]
  },
  {
   "cell_type": "markdown",
   "metadata": {},
   "source": [
    "## 1. Overview\n",
    "\n",
    "My <b>hypothesis</b> for this report is: One way Facebook connects to non-Facebook apps is by using my Facebook credentials as login information, therefore the apps that I login with will be advertised more on my feed as well as shown in my off-Facebook activity data. Below, I am importing the libraires I will be using throughout this report as well as loading in my data from my \"your_off-facebook_activity\" file.\n"
   ]
  },
  {
   "cell_type": "code",
   "execution_count": 169,
   "metadata": {},
   "outputs": [],
   "source": [
    "import json\n",
    "from datetime import datetime\n",
    "import matplotlib.pyplot as plt\n",
    "import numpy as np\n",
    "import time\n",
    "import pandas as pd\n",
    "from scipy import stats"
   ]
  },
  {
   "cell_type": "code",
   "execution_count": 170,
   "metadata": {},
   "outputs": [
    {
     "name": "stdout",
     "output_type": "stream",
     "text": [
      "dict_keys(['off_facebook_activity'])\n"
     ]
    }
   ],
   "source": [
    "with open(r\"C:\\Users\\hhasw\\Desktop\\Junior Year\\Data in Emerging Media and Technology\\Facebook Data JSON\\ads_and_businesses\\your_off-facebook_activity.json\") as f:\n",
    "    act = json.load(f)\n",
    "print(act.keys())"
   ]
  },
  {
   "cell_type": "markdown",
   "metadata": {},
   "source": [
    "## 2. The Data\n",
    "\n",
    "I got this data from my personal Facebook account. I downloaded all my data and chose the file, \"your_off-facebook_activity\" file. The raw data structure is a list and the two data types are 'name' and 'events', see how I found this out below. Since this is my own personal data from my Facebook account and I downloaded it straight from https://www.facebook.com/, I I trust this data. If you would like access your own Facebook data, follow these steps: https://www.facebook.com/help/212802592074644/?helpref=search&query=download%20data&search_session_id=d85c62aeaf8f19fb04548a357e020a0d&sr=0"
   ]
  },
  {
   "cell_type": "code",
   "execution_count": 171,
   "metadata": {},
   "outputs": [
    {
     "data": {
      "text/plain": [
       "list"
      ]
     },
     "execution_count": 171,
     "metadata": {},
     "output_type": "execute_result"
    }
   ],
   "source": [
    "type(act['off_facebook_activity'])"
   ]
  },
  {
   "cell_type": "code",
   "execution_count": 172,
   "metadata": {},
   "outputs": [
    {
     "data": {
      "text/plain": [
       "{'name': 'microsoft.com',\n",
       " 'events': [{'id': 1418091021830447,\n",
       "   'type': 'COMPLETE_REGISTRATION',\n",
       "   'timestamp': 1611283260},\n",
       "  {'id': 1770559986549030, 'type': 'VIEW_CONTENT', 'timestamp': 1611283260}]}"
      ]
     },
     "execution_count": 172,
     "metadata": {},
     "output_type": "execute_result"
    }
   ],
   "source": [
    "act['off_facebook_activity'][0]"
   ]
  },
  {
   "cell_type": "code",
   "execution_count": 173,
   "metadata": {},
   "outputs": [
    {
     "data": {
      "text/plain": [
       "dict_keys(['name', 'events'])"
      ]
     },
     "execution_count": 173,
     "metadata": {},
     "output_type": "execute_result"
    }
   ],
   "source": [
    "act['off_facebook_activity'][0].keys()"
   ]
  },
  {
   "cell_type": "code",
   "execution_count": 174,
   "metadata": {},
   "outputs": [
    {
     "data": {
      "text/plain": [
       "'COMPLETE_REGISTRATION'"
      ]
     },
     "execution_count": 174,
     "metadata": {},
     "output_type": "execute_result"
    }
   ],
   "source": [
    "act['off_facebook_activity'][0]['events'][0]['type']"
   ]
  },
  {
   "cell_type": "markdown",
   "metadata": {},
   "source": [
    "## 3. Data Preparation"
   ]
  },
  {
   "cell_type": "code",
   "execution_count": 175,
   "metadata": {},
   "outputs": [
    {
     "data": {
      "text/plain": [
       "True"
      ]
     },
     "execution_count": 175,
     "metadata": {},
     "output_type": "execute_result"
    }
   ],
   "source": [
    "act['off_facebook_activity'][0]['events'][0]['type'] == 'COMPLETE_REGISTRATION'"
   ]
  },
  {
   "cell_type": "markdown",
   "metadata": {},
   "source": [
    "Below, I chose to use the <i>Loop Method</i>, which is selecting the value from the 'name' key. The events.append is getting the length of the 'events' list. For the other 6 variables, the variable <i>i</i>  is used to iterate over the list of app dictionaries. The result of this is a series of lists containing the data of interest."
   ]
  },
  {
   "cell_type": "code",
   "execution_count": 176,
   "metadata": {},
   "outputs": [],
   "source": [
    "apps = []\n",
    "events = []\n",
    "actapp = []\n",
    "custom = []\n",
    "search = []\n",
    "viewc = []\n",
    "ad = []\n",
    "view = []\n",
    "cats = []\n",
    "\n",
    "for i in act['off_facebook_activity']:\n",
    "    apps.append(i['name'])\n",
    "    events.append((len(i['events'])))\n",
    "    actapp.append(len([x for x in i['events'] if x['type'] == 'COMPLETE_REGISTRATION']))\n",
    "    custom.append(len([x for x in i['events'] if x['type'] == 'CUSTOM']))\n",
    "    search.append(len([x for x in i['events'] if x['type'] == 'SEARCH']))\n",
    "    viewc.append(len([x for x in i['events'] if x['type'] == 'VIEW_CONTENT']))\n",
    "    ad.append(len([x for x in i['events'] if x['type'] == 'AD_REQUEST']))\n",
    "    view.append(len([x for x in i['events'] if x['type'] == 'PAGE_VIEW']))\n",
    "    cats.append(len([x for x in i['events'] if x ['type'] == 'CATEGORY']))"
   ]
  },
  {
   "cell_type": "markdown",
   "metadata": {},
   "source": [
    "Below, I am creating a DataFrame from pandas. In this particular DataFrame, I am first creating an empty DataFrame and naming the column names. Then, I assigned the lists of data to each column name."
   ]
  },
  {
   "cell_type": "code",
   "execution_count": 177,
   "metadata": {},
   "outputs": [
    {
     "data": {
      "text/html": [
       "<div>\n",
       "<style scoped>\n",
       "    .dataframe tbody tr th:only-of-type {\n",
       "        vertical-align: middle;\n",
       "    }\n",
       "\n",
       "    .dataframe tbody tr th {\n",
       "        vertical-align: top;\n",
       "    }\n",
       "\n",
       "    .dataframe thead th {\n",
       "        text-align: right;\n",
       "    }\n",
       "</style>\n",
       "<table border=\"1\" class=\"dataframe\">\n",
       "  <thead>\n",
       "    <tr style=\"text-align: right;\">\n",
       "      <th></th>\n",
       "      <th>App</th>\n",
       "      <th>Event Count</th>\n",
       "      <th>Activate App</th>\n",
       "      <th>Custom</th>\n",
       "      <th>Search</th>\n",
       "      <th>View Content</th>\n",
       "      <th>Ad Request</th>\n",
       "      <th>Page Views</th>\n",
       "      <th>Category</th>\n",
       "    </tr>\n",
       "  </thead>\n",
       "  <tbody>\n",
       "    <tr>\n",
       "      <th>0</th>\n",
       "      <td>microsoft.com</td>\n",
       "      <td>2</td>\n",
       "      <td>1</td>\n",
       "      <td>0</td>\n",
       "      <td>0</td>\n",
       "      <td>1</td>\n",
       "      <td>0</td>\n",
       "      <td>0</td>\n",
       "      <td>0</td>\n",
       "    </tr>\n",
       "    <tr>\n",
       "      <th>1</th>\n",
       "      <td>etsy.com</td>\n",
       "      <td>31</td>\n",
       "      <td>0</td>\n",
       "      <td>0</td>\n",
       "      <td>0</td>\n",
       "      <td>11</td>\n",
       "      <td>0</td>\n",
       "      <td>20</td>\n",
       "      <td>0</td>\n",
       "    </tr>\n",
       "    <tr>\n",
       "      <th>2</th>\n",
       "      <td>groupon.com</td>\n",
       "      <td>1</td>\n",
       "      <td>0</td>\n",
       "      <td>0</td>\n",
       "      <td>0</td>\n",
       "      <td>0</td>\n",
       "      <td>0</td>\n",
       "      <td>1</td>\n",
       "      <td>0</td>\n",
       "    </tr>\n",
       "    <tr>\n",
       "      <th>3</th>\n",
       "      <td>yelp.com</td>\n",
       "      <td>16</td>\n",
       "      <td>0</td>\n",
       "      <td>8</td>\n",
       "      <td>0</td>\n",
       "      <td>4</td>\n",
       "      <td>0</td>\n",
       "      <td>4</td>\n",
       "      <td>0</td>\n",
       "    </tr>\n",
       "    <tr>\n",
       "      <th>4</th>\n",
       "      <td>vagaro.com</td>\n",
       "      <td>1</td>\n",
       "      <td>0</td>\n",
       "      <td>0</td>\n",
       "      <td>0</td>\n",
       "      <td>0</td>\n",
       "      <td>0</td>\n",
       "      <td>1</td>\n",
       "      <td>0</td>\n",
       "    </tr>\n",
       "  </tbody>\n",
       "</table>\n",
       "</div>"
      ],
      "text/plain": [
       "             App  Event Count  Activate App  Custom  Search  View Content  \\\n",
       "0  microsoft.com            2             1       0       0             1   \n",
       "1       etsy.com           31             0       0       0            11   \n",
       "2    groupon.com            1             0       0       0             0   \n",
       "3       yelp.com           16             0       8       0             4   \n",
       "4     vagaro.com            1             0       0       0             0   \n",
       "\n",
       "   Ad Request  Page Views  Category  \n",
       "0           0           0         0  \n",
       "1           0          20         0  \n",
       "2           0           1         0  \n",
       "3           0           4         0  \n",
       "4           0           1         0  "
      ]
     },
     "execution_count": 177,
     "metadata": {},
     "output_type": "execute_result"
    }
   ],
   "source": [
    "appbyevent = pd.DataFrame(columns = ('App', 'Event Count', 'Activate App', 'Custom', 'Search', 'View Content', 'Ad Request', 'Page Views', 'Category'))\n",
    "appbyevent['App'] = apps\n",
    "appbyevent['Event Count'] = events\n",
    "appbyevent['Activate App'] = actapp\n",
    "appbyevent['Custom'] = custom\n",
    "appbyevent['Search'] = search\n",
    "appbyevent['View Content'] = viewc\n",
    "appbyevent['Ad Request'] = ad\n",
    "appbyevent['Page Views'] = view\n",
    "appbyevent['Category'] = cats\n",
    "appbyevent.head()"
   ]
  },
  {
   "cell_type": "markdown",
   "metadata": {},
   "source": [
    "Here I am showing all of the data for all of the apps connected to my Facebook."
   ]
  },
  {
   "cell_type": "code",
   "execution_count": 178,
   "metadata": {},
   "outputs": [
    {
     "data": {
      "text/html": [
       "<div>\n",
       "<style scoped>\n",
       "    .dataframe tbody tr th:only-of-type {\n",
       "        vertical-align: middle;\n",
       "    }\n",
       "\n",
       "    .dataframe tbody tr th {\n",
       "        vertical-align: top;\n",
       "    }\n",
       "\n",
       "    .dataframe thead th {\n",
       "        text-align: right;\n",
       "    }\n",
       "</style>\n",
       "<table border=\"1\" class=\"dataframe\">\n",
       "  <thead>\n",
       "    <tr style=\"text-align: right;\">\n",
       "      <th></th>\n",
       "      <th>App</th>\n",
       "      <th>Event Count</th>\n",
       "      <th>Activate App</th>\n",
       "      <th>Custom</th>\n",
       "      <th>Ad Request</th>\n",
       "      <th>View Content</th>\n",
       "      <th>Page Views</th>\n",
       "      <th>Category</th>\n",
       "    </tr>\n",
       "  </thead>\n",
       "  <tbody>\n",
       "    <tr>\n",
       "      <th>1</th>\n",
       "      <td>etsy.com</td>\n",
       "      <td>31</td>\n",
       "      <td>0</td>\n",
       "      <td>0</td>\n",
       "      <td>0</td>\n",
       "      <td>11</td>\n",
       "      <td>20</td>\n",
       "      <td>0</td>\n",
       "    </tr>\n",
       "    <tr>\n",
       "      <th>3</th>\n",
       "      <td>yelp.com</td>\n",
       "      <td>16</td>\n",
       "      <td>0</td>\n",
       "      <td>8</td>\n",
       "      <td>0</td>\n",
       "      <td>4</td>\n",
       "      <td>4</td>\n",
       "      <td>0</td>\n",
       "    </tr>\n",
       "    <tr>\n",
       "      <th>7</th>\n",
       "      <td>linkedin.com</td>\n",
       "      <td>120</td>\n",
       "      <td>0</td>\n",
       "      <td>0</td>\n",
       "      <td>0</td>\n",
       "      <td>47</td>\n",
       "      <td>0</td>\n",
       "      <td>0</td>\n",
       "    </tr>\n",
       "    <tr>\n",
       "      <th>9</th>\n",
       "      <td>kent.edu</td>\n",
       "      <td>109</td>\n",
       "      <td>0</td>\n",
       "      <td>4</td>\n",
       "      <td>0</td>\n",
       "      <td>17</td>\n",
       "      <td>88</td>\n",
       "      <td>0</td>\n",
       "    </tr>\n",
       "    <tr>\n",
       "      <th>10</th>\n",
       "      <td>Adobe Lightroom Photo Editor</td>\n",
       "      <td>31</td>\n",
       "      <td>0</td>\n",
       "      <td>0</td>\n",
       "      <td>0</td>\n",
       "      <td>0</td>\n",
       "      <td>0</td>\n",
       "      <td>0</td>\n",
       "    </tr>\n",
       "    <tr>\n",
       "      <th>11</th>\n",
       "      <td>Ulta Beauty</td>\n",
       "      <td>14</td>\n",
       "      <td>0</td>\n",
       "      <td>9</td>\n",
       "      <td>0</td>\n",
       "      <td>0</td>\n",
       "      <td>0</td>\n",
       "      <td>0</td>\n",
       "    </tr>\n",
       "    <tr>\n",
       "      <th>24</th>\n",
       "      <td>ups.com</td>\n",
       "      <td>16</td>\n",
       "      <td>0</td>\n",
       "      <td>0</td>\n",
       "      <td>0</td>\n",
       "      <td>0</td>\n",
       "      <td>16</td>\n",
       "      <td>0</td>\n",
       "    </tr>\n",
       "    <tr>\n",
       "      <th>35</th>\n",
       "      <td>J. Crew Inc.</td>\n",
       "      <td>17</td>\n",
       "      <td>0</td>\n",
       "      <td>0</td>\n",
       "      <td>0</td>\n",
       "      <td>10</td>\n",
       "      <td>7</td>\n",
       "      <td>0</td>\n",
       "    </tr>\n",
       "    <tr>\n",
       "      <th>44</th>\n",
       "      <td>quizlet.com</td>\n",
       "      <td>109</td>\n",
       "      <td>0</td>\n",
       "      <td>1</td>\n",
       "      <td>0</td>\n",
       "      <td>99</td>\n",
       "      <td>1</td>\n",
       "      <td>0</td>\n",
       "    </tr>\n",
       "    <tr>\n",
       "      <th>51</th>\n",
       "      <td>shein.com</td>\n",
       "      <td>13</td>\n",
       "      <td>0</td>\n",
       "      <td>0</td>\n",
       "      <td>0</td>\n",
       "      <td>6</td>\n",
       "      <td>4</td>\n",
       "      <td>0</td>\n",
       "    </tr>\n",
       "    <tr>\n",
       "      <th>55</th>\n",
       "      <td>luckybrand.com</td>\n",
       "      <td>12</td>\n",
       "      <td>0</td>\n",
       "      <td>0</td>\n",
       "      <td>0</td>\n",
       "      <td>7</td>\n",
       "      <td>5</td>\n",
       "      <td>0</td>\n",
       "    </tr>\n",
       "    <tr>\n",
       "      <th>57</th>\n",
       "      <td>dickssportinggoods.com</td>\n",
       "      <td>12</td>\n",
       "      <td>0</td>\n",
       "      <td>0</td>\n",
       "      <td>0</td>\n",
       "      <td>0</td>\n",
       "      <td>11</td>\n",
       "      <td>0</td>\n",
       "    </tr>\n",
       "    <tr>\n",
       "      <th>61</th>\n",
       "      <td>burton.com</td>\n",
       "      <td>12</td>\n",
       "      <td>0</td>\n",
       "      <td>0</td>\n",
       "      <td>0</td>\n",
       "      <td>6</td>\n",
       "      <td>6</td>\n",
       "      <td>0</td>\n",
       "    </tr>\n",
       "    <tr>\n",
       "      <th>63</th>\n",
       "      <td>eventbrite.com</td>\n",
       "      <td>40</td>\n",
       "      <td>0</td>\n",
       "      <td>0</td>\n",
       "      <td>0</td>\n",
       "      <td>20</td>\n",
       "      <td>19</td>\n",
       "      <td>0</td>\n",
       "    </tr>\n",
       "    <tr>\n",
       "      <th>84</th>\n",
       "      <td>hubspot.com</td>\n",
       "      <td>387</td>\n",
       "      <td>0</td>\n",
       "      <td>0</td>\n",
       "      <td>0</td>\n",
       "      <td>0</td>\n",
       "      <td>127</td>\n",
       "      <td>0</td>\n",
       "    </tr>\n",
       "    <tr>\n",
       "      <th>109</th>\n",
       "      <td>cyclebar.com</td>\n",
       "      <td>13</td>\n",
       "      <td>1</td>\n",
       "      <td>0</td>\n",
       "      <td>0</td>\n",
       "      <td>0</td>\n",
       "      <td>7</td>\n",
       "      <td>0</td>\n",
       "    </tr>\n",
       "    <tr>\n",
       "      <th>130</th>\n",
       "      <td>spectrum.com</td>\n",
       "      <td>14</td>\n",
       "      <td>0</td>\n",
       "      <td>0</td>\n",
       "      <td>0</td>\n",
       "      <td>0</td>\n",
       "      <td>13</td>\n",
       "      <td>0</td>\n",
       "    </tr>\n",
       "    <tr>\n",
       "      <th>136</th>\n",
       "      <td>urbanoutfitters.com</td>\n",
       "      <td>13</td>\n",
       "      <td>0</td>\n",
       "      <td>4</td>\n",
       "      <td>0</td>\n",
       "      <td>7</td>\n",
       "      <td>2</td>\n",
       "      <td>0</td>\n",
       "    </tr>\n",
       "    <tr>\n",
       "      <th>137</th>\n",
       "      <td>lululemon.com</td>\n",
       "      <td>33</td>\n",
       "      <td>0</td>\n",
       "      <td>0</td>\n",
       "      <td>0</td>\n",
       "      <td>1</td>\n",
       "      <td>32</td>\n",
       "      <td>0</td>\n",
       "    </tr>\n",
       "    <tr>\n",
       "      <th>141</th>\n",
       "      <td>dropbox.com</td>\n",
       "      <td>11</td>\n",
       "      <td>0</td>\n",
       "      <td>0</td>\n",
       "      <td>0</td>\n",
       "      <td>1</td>\n",
       "      <td>10</td>\n",
       "      <td>0</td>\n",
       "    </tr>\n",
       "    <tr>\n",
       "      <th>175</th>\n",
       "      <td>LinkedIn</td>\n",
       "      <td>25</td>\n",
       "      <td>0</td>\n",
       "      <td>25</td>\n",
       "      <td>0</td>\n",
       "      <td>0</td>\n",
       "      <td>0</td>\n",
       "      <td>0</td>\n",
       "    </tr>\n",
       "    <tr>\n",
       "      <th>190</th>\n",
       "      <td>TikTok - Make Your Day</td>\n",
       "      <td>1295</td>\n",
       "      <td>0</td>\n",
       "      <td>805</td>\n",
       "      <td>0</td>\n",
       "      <td>0</td>\n",
       "      <td>0</td>\n",
       "      <td>0</td>\n",
       "    </tr>\n",
       "    <tr>\n",
       "      <th>224</th>\n",
       "      <td>freepeople.com</td>\n",
       "      <td>16</td>\n",
       "      <td>0</td>\n",
       "      <td>0</td>\n",
       "      <td>0</td>\n",
       "      <td>2</td>\n",
       "      <td>14</td>\n",
       "      <td>0</td>\n",
       "    </tr>\n",
       "    <tr>\n",
       "      <th>294</th>\n",
       "      <td>wayfair.com</td>\n",
       "      <td>11</td>\n",
       "      <td>0</td>\n",
       "      <td>3</td>\n",
       "      <td>0</td>\n",
       "      <td>7</td>\n",
       "      <td>1</td>\n",
       "      <td>0</td>\n",
       "    </tr>\n",
       "    <tr>\n",
       "      <th>320</th>\n",
       "      <td>cnet.com</td>\n",
       "      <td>11</td>\n",
       "      <td>0</td>\n",
       "      <td>9</td>\n",
       "      <td>0</td>\n",
       "      <td>0</td>\n",
       "      <td>2</td>\n",
       "      <td>0</td>\n",
       "    </tr>\n",
       "    <tr>\n",
       "      <th>328</th>\n",
       "      <td>ae.com</td>\n",
       "      <td>11</td>\n",
       "      <td>0</td>\n",
       "      <td>0</td>\n",
       "      <td>0</td>\n",
       "      <td>9</td>\n",
       "      <td>0</td>\n",
       "      <td>0</td>\n",
       "    </tr>\n",
       "    <tr>\n",
       "      <th>375</th>\n",
       "      <td>oreilly.com</td>\n",
       "      <td>68</td>\n",
       "      <td>0</td>\n",
       "      <td>0</td>\n",
       "      <td>0</td>\n",
       "      <td>26</td>\n",
       "      <td>42</td>\n",
       "      <td>0</td>\n",
       "    </tr>\n",
       "    <tr>\n",
       "      <th>433</th>\n",
       "      <td>campusdish.com</td>\n",
       "      <td>13</td>\n",
       "      <td>0</td>\n",
       "      <td>0</td>\n",
       "      <td>0</td>\n",
       "      <td>9</td>\n",
       "      <td>4</td>\n",
       "      <td>0</td>\n",
       "    </tr>\n",
       "    <tr>\n",
       "      <th>489</th>\n",
       "      <td>Canva - Graphic Design Creator</td>\n",
       "      <td>11</td>\n",
       "      <td>0</td>\n",
       "      <td>11</td>\n",
       "      <td>0</td>\n",
       "      <td>0</td>\n",
       "      <td>0</td>\n",
       "      <td>0</td>\n",
       "    </tr>\n",
       "    <tr>\n",
       "      <th>577</th>\n",
       "      <td>timesheets.com</td>\n",
       "      <td>19</td>\n",
       "      <td>0</td>\n",
       "      <td>0</td>\n",
       "      <td>0</td>\n",
       "      <td>19</td>\n",
       "      <td>0</td>\n",
       "      <td>0</td>\n",
       "    </tr>\n",
       "  </tbody>\n",
       "</table>\n",
       "</div>"
      ],
      "text/plain": [
       "                                App  Event Count  Activate App  Custom  \\\n",
       "1                          etsy.com           31             0       0   \n",
       "3                          yelp.com           16             0       8   \n",
       "7                      linkedin.com          120             0       0   \n",
       "9                          kent.edu          109             0       4   \n",
       "10     Adobe Lightroom Photo Editor           31             0       0   \n",
       "11                      Ulta Beauty           14             0       9   \n",
       "24                          ups.com           16             0       0   \n",
       "35                     J. Crew Inc.           17             0       0   \n",
       "44                      quizlet.com          109             0       1   \n",
       "51                        shein.com           13             0       0   \n",
       "55                   luckybrand.com           12             0       0   \n",
       "57           dickssportinggoods.com           12             0       0   \n",
       "61                       burton.com           12             0       0   \n",
       "63                   eventbrite.com           40             0       0   \n",
       "84                      hubspot.com          387             0       0   \n",
       "109                    cyclebar.com           13             1       0   \n",
       "130                    spectrum.com           14             0       0   \n",
       "136             urbanoutfitters.com           13             0       4   \n",
       "137                   lululemon.com           33             0       0   \n",
       "141                     dropbox.com           11             0       0   \n",
       "175                        LinkedIn           25             0      25   \n",
       "190          TikTok - Make Your Day         1295             0     805   \n",
       "224                  freepeople.com           16             0       0   \n",
       "294                     wayfair.com           11             0       3   \n",
       "320                        cnet.com           11             0       9   \n",
       "328                          ae.com           11             0       0   \n",
       "375                     oreilly.com           68             0       0   \n",
       "433                  campusdish.com           13             0       0   \n",
       "489  Canva - Graphic Design Creator           11             0      11   \n",
       "577                  timesheets.com           19             0       0   \n",
       "\n",
       "     Ad Request  View Content  Page Views  Category  \n",
       "1             0            11          20         0  \n",
       "3             0             4           4         0  \n",
       "7             0            47           0         0  \n",
       "9             0            17          88         0  \n",
       "10            0             0           0         0  \n",
       "11            0             0           0         0  \n",
       "24            0             0          16         0  \n",
       "35            0            10           7         0  \n",
       "44            0            99           1         0  \n",
       "51            0             6           4         0  \n",
       "55            0             7           5         0  \n",
       "57            0             0          11         0  \n",
       "61            0             6           6         0  \n",
       "63            0            20          19         0  \n",
       "84            0             0         127         0  \n",
       "109           0             0           7         0  \n",
       "130           0             0          13         0  \n",
       "136           0             7           2         0  \n",
       "137           0             1          32         0  \n",
       "141           0             1          10         0  \n",
       "175           0             0           0         0  \n",
       "190           0             0           0         0  \n",
       "224           0             2          14         0  \n",
       "294           0             7           1         0  \n",
       "320           0             0           2         0  \n",
       "328           0             9           0         0  \n",
       "375           0            26          42         0  \n",
       "433           0             9           4         0  \n",
       "489           0             0           0         0  \n",
       "577           0            19           0         0  "
      ]
     },
     "execution_count": 178,
     "metadata": {},
     "output_type": "execute_result"
    }
   ],
   "source": [
    "sub_apps = appbyevent[['App', 'Event Count', 'Activate App', 'Custom', 'Ad Request', 'View Content', 'Page Views', 'Category']].loc[appbyevent['Event Count'] > 10]\n",
    "sub_apps"
   ]
  },
  {
   "cell_type": "markdown",
   "metadata": {},
   "source": [
    "Below I am singling out the app names to determine if the are a website or an app."
   ]
  },
  {
   "cell_type": "code",
   "execution_count": 179,
   "metadata": {
    "scrolled": true
   },
   "outputs": [
    {
     "data": {
      "text/plain": [
       "1                            etsy.com\n",
       "3                            yelp.com\n",
       "7                        linkedin.com\n",
       "9                            kent.edu\n",
       "10       Adobe Lightroom Photo Editor\n",
       "11                        Ulta Beauty\n",
       "24                            ups.com\n",
       "35                       J. Crew Inc.\n",
       "44                        quizlet.com\n",
       "51                          shein.com\n",
       "55                     luckybrand.com\n",
       "57             dickssportinggoods.com\n",
       "61                         burton.com\n",
       "63                     eventbrite.com\n",
       "84                        hubspot.com\n",
       "109                      cyclebar.com\n",
       "130                      spectrum.com\n",
       "136               urbanoutfitters.com\n",
       "137                     lululemon.com\n",
       "141                       dropbox.com\n",
       "175                          LinkedIn\n",
       "190            TikTok - Make Your Day\n",
       "224                    freepeople.com\n",
       "294                       wayfair.com\n",
       "320                          cnet.com\n",
       "328                            ae.com\n",
       "375                       oreilly.com\n",
       "433                    campusdish.com\n",
       "489    Canva - Graphic Design Creator\n",
       "577                    timesheets.com\n",
       "Name: App, dtype: object"
      ]
     },
     "execution_count": 179,
     "metadata": {},
     "output_type": "execute_result"
    }
   ],
   "source": [
    "sub_apps['App']"
   ]
  },
  {
   "cell_type": "code",
   "execution_count": 180,
   "metadata": {},
   "outputs": [
    {
     "data": {
      "text/plain": [
       "30"
      ]
     },
     "execution_count": 180,
     "metadata": {},
     "output_type": "execute_result"
    }
   ],
   "source": [
    "cats = ['site', 'site', 'site', 'site', 'app', 'app', 'site', 'app', 'site', 'site','site','site','site','site','site','site','site','site','site','site', 'app', 'app', 'site', 'site', 'site', 'site', 'site', 'site', 'app', 'site']\n",
    "len(cats)"
   ]
  },
  {
   "cell_type": "markdown",
   "metadata": {},
   "source": [
    "Here I am setting the column 'Category' to equal <i>cats</i> so that 'site' or 'app' is displayed in the correlating field in the column 'Category'."
   ]
  },
  {
   "cell_type": "code",
   "execution_count": 181,
   "metadata": {},
   "outputs": [
    {
     "data": {
      "text/html": [
       "<div>\n",
       "<style scoped>\n",
       "    .dataframe tbody tr th:only-of-type {\n",
       "        vertical-align: middle;\n",
       "    }\n",
       "\n",
       "    .dataframe tbody tr th {\n",
       "        vertical-align: top;\n",
       "    }\n",
       "\n",
       "    .dataframe thead th {\n",
       "        text-align: right;\n",
       "    }\n",
       "</style>\n",
       "<table border=\"1\" class=\"dataframe\">\n",
       "  <thead>\n",
       "    <tr style=\"text-align: right;\">\n",
       "      <th></th>\n",
       "      <th>App</th>\n",
       "      <th>Event Count</th>\n",
       "      <th>Activate App</th>\n",
       "      <th>Custom</th>\n",
       "      <th>Ad Request</th>\n",
       "      <th>View Content</th>\n",
       "      <th>Page Views</th>\n",
       "      <th>Category</th>\n",
       "    </tr>\n",
       "  </thead>\n",
       "  <tbody>\n",
       "    <tr>\n",
       "      <th>1</th>\n",
       "      <td>etsy.com</td>\n",
       "      <td>31</td>\n",
       "      <td>0</td>\n",
       "      <td>0</td>\n",
       "      <td>0</td>\n",
       "      <td>11</td>\n",
       "      <td>20</td>\n",
       "      <td>site</td>\n",
       "    </tr>\n",
       "    <tr>\n",
       "      <th>3</th>\n",
       "      <td>yelp.com</td>\n",
       "      <td>16</td>\n",
       "      <td>0</td>\n",
       "      <td>8</td>\n",
       "      <td>0</td>\n",
       "      <td>4</td>\n",
       "      <td>4</td>\n",
       "      <td>site</td>\n",
       "    </tr>\n",
       "    <tr>\n",
       "      <th>7</th>\n",
       "      <td>linkedin.com</td>\n",
       "      <td>120</td>\n",
       "      <td>0</td>\n",
       "      <td>0</td>\n",
       "      <td>0</td>\n",
       "      <td>47</td>\n",
       "      <td>0</td>\n",
       "      <td>site</td>\n",
       "    </tr>\n",
       "    <tr>\n",
       "      <th>9</th>\n",
       "      <td>kent.edu</td>\n",
       "      <td>109</td>\n",
       "      <td>0</td>\n",
       "      <td>4</td>\n",
       "      <td>0</td>\n",
       "      <td>17</td>\n",
       "      <td>88</td>\n",
       "      <td>site</td>\n",
       "    </tr>\n",
       "    <tr>\n",
       "      <th>10</th>\n",
       "      <td>Adobe Lightroom Photo Editor</td>\n",
       "      <td>31</td>\n",
       "      <td>0</td>\n",
       "      <td>0</td>\n",
       "      <td>0</td>\n",
       "      <td>0</td>\n",
       "      <td>0</td>\n",
       "      <td>app</td>\n",
       "    </tr>\n",
       "    <tr>\n",
       "      <th>11</th>\n",
       "      <td>Ulta Beauty</td>\n",
       "      <td>14</td>\n",
       "      <td>0</td>\n",
       "      <td>9</td>\n",
       "      <td>0</td>\n",
       "      <td>0</td>\n",
       "      <td>0</td>\n",
       "      <td>app</td>\n",
       "    </tr>\n",
       "    <tr>\n",
       "      <th>24</th>\n",
       "      <td>ups.com</td>\n",
       "      <td>16</td>\n",
       "      <td>0</td>\n",
       "      <td>0</td>\n",
       "      <td>0</td>\n",
       "      <td>0</td>\n",
       "      <td>16</td>\n",
       "      <td>site</td>\n",
       "    </tr>\n",
       "    <tr>\n",
       "      <th>35</th>\n",
       "      <td>J. Crew Inc.</td>\n",
       "      <td>17</td>\n",
       "      <td>0</td>\n",
       "      <td>0</td>\n",
       "      <td>0</td>\n",
       "      <td>10</td>\n",
       "      <td>7</td>\n",
       "      <td>app</td>\n",
       "    </tr>\n",
       "    <tr>\n",
       "      <th>44</th>\n",
       "      <td>quizlet.com</td>\n",
       "      <td>109</td>\n",
       "      <td>0</td>\n",
       "      <td>1</td>\n",
       "      <td>0</td>\n",
       "      <td>99</td>\n",
       "      <td>1</td>\n",
       "      <td>site</td>\n",
       "    </tr>\n",
       "    <tr>\n",
       "      <th>51</th>\n",
       "      <td>shein.com</td>\n",
       "      <td>13</td>\n",
       "      <td>0</td>\n",
       "      <td>0</td>\n",
       "      <td>0</td>\n",
       "      <td>6</td>\n",
       "      <td>4</td>\n",
       "      <td>site</td>\n",
       "    </tr>\n",
       "    <tr>\n",
       "      <th>55</th>\n",
       "      <td>luckybrand.com</td>\n",
       "      <td>12</td>\n",
       "      <td>0</td>\n",
       "      <td>0</td>\n",
       "      <td>0</td>\n",
       "      <td>7</td>\n",
       "      <td>5</td>\n",
       "      <td>site</td>\n",
       "    </tr>\n",
       "    <tr>\n",
       "      <th>57</th>\n",
       "      <td>dickssportinggoods.com</td>\n",
       "      <td>12</td>\n",
       "      <td>0</td>\n",
       "      <td>0</td>\n",
       "      <td>0</td>\n",
       "      <td>0</td>\n",
       "      <td>11</td>\n",
       "      <td>site</td>\n",
       "    </tr>\n",
       "    <tr>\n",
       "      <th>61</th>\n",
       "      <td>burton.com</td>\n",
       "      <td>12</td>\n",
       "      <td>0</td>\n",
       "      <td>0</td>\n",
       "      <td>0</td>\n",
       "      <td>6</td>\n",
       "      <td>6</td>\n",
       "      <td>site</td>\n",
       "    </tr>\n",
       "    <tr>\n",
       "      <th>63</th>\n",
       "      <td>eventbrite.com</td>\n",
       "      <td>40</td>\n",
       "      <td>0</td>\n",
       "      <td>0</td>\n",
       "      <td>0</td>\n",
       "      <td>20</td>\n",
       "      <td>19</td>\n",
       "      <td>site</td>\n",
       "    </tr>\n",
       "    <tr>\n",
       "      <th>84</th>\n",
       "      <td>hubspot.com</td>\n",
       "      <td>387</td>\n",
       "      <td>0</td>\n",
       "      <td>0</td>\n",
       "      <td>0</td>\n",
       "      <td>0</td>\n",
       "      <td>127</td>\n",
       "      <td>site</td>\n",
       "    </tr>\n",
       "    <tr>\n",
       "      <th>109</th>\n",
       "      <td>cyclebar.com</td>\n",
       "      <td>13</td>\n",
       "      <td>1</td>\n",
       "      <td>0</td>\n",
       "      <td>0</td>\n",
       "      <td>0</td>\n",
       "      <td>7</td>\n",
       "      <td>site</td>\n",
       "    </tr>\n",
       "    <tr>\n",
       "      <th>130</th>\n",
       "      <td>spectrum.com</td>\n",
       "      <td>14</td>\n",
       "      <td>0</td>\n",
       "      <td>0</td>\n",
       "      <td>0</td>\n",
       "      <td>0</td>\n",
       "      <td>13</td>\n",
       "      <td>site</td>\n",
       "    </tr>\n",
       "    <tr>\n",
       "      <th>136</th>\n",
       "      <td>urbanoutfitters.com</td>\n",
       "      <td>13</td>\n",
       "      <td>0</td>\n",
       "      <td>4</td>\n",
       "      <td>0</td>\n",
       "      <td>7</td>\n",
       "      <td>2</td>\n",
       "      <td>site</td>\n",
       "    </tr>\n",
       "    <tr>\n",
       "      <th>137</th>\n",
       "      <td>lululemon.com</td>\n",
       "      <td>33</td>\n",
       "      <td>0</td>\n",
       "      <td>0</td>\n",
       "      <td>0</td>\n",
       "      <td>1</td>\n",
       "      <td>32</td>\n",
       "      <td>site</td>\n",
       "    </tr>\n",
       "    <tr>\n",
       "      <th>141</th>\n",
       "      <td>dropbox.com</td>\n",
       "      <td>11</td>\n",
       "      <td>0</td>\n",
       "      <td>0</td>\n",
       "      <td>0</td>\n",
       "      <td>1</td>\n",
       "      <td>10</td>\n",
       "      <td>site</td>\n",
       "    </tr>\n",
       "    <tr>\n",
       "      <th>175</th>\n",
       "      <td>LinkedIn</td>\n",
       "      <td>25</td>\n",
       "      <td>0</td>\n",
       "      <td>25</td>\n",
       "      <td>0</td>\n",
       "      <td>0</td>\n",
       "      <td>0</td>\n",
       "      <td>app</td>\n",
       "    </tr>\n",
       "    <tr>\n",
       "      <th>190</th>\n",
       "      <td>TikTok - Make Your Day</td>\n",
       "      <td>1295</td>\n",
       "      <td>0</td>\n",
       "      <td>805</td>\n",
       "      <td>0</td>\n",
       "      <td>0</td>\n",
       "      <td>0</td>\n",
       "      <td>app</td>\n",
       "    </tr>\n",
       "    <tr>\n",
       "      <th>224</th>\n",
       "      <td>freepeople.com</td>\n",
       "      <td>16</td>\n",
       "      <td>0</td>\n",
       "      <td>0</td>\n",
       "      <td>0</td>\n",
       "      <td>2</td>\n",
       "      <td>14</td>\n",
       "      <td>site</td>\n",
       "    </tr>\n",
       "    <tr>\n",
       "      <th>294</th>\n",
       "      <td>wayfair.com</td>\n",
       "      <td>11</td>\n",
       "      <td>0</td>\n",
       "      <td>3</td>\n",
       "      <td>0</td>\n",
       "      <td>7</td>\n",
       "      <td>1</td>\n",
       "      <td>site</td>\n",
       "    </tr>\n",
       "    <tr>\n",
       "      <th>320</th>\n",
       "      <td>cnet.com</td>\n",
       "      <td>11</td>\n",
       "      <td>0</td>\n",
       "      <td>9</td>\n",
       "      <td>0</td>\n",
       "      <td>0</td>\n",
       "      <td>2</td>\n",
       "      <td>site</td>\n",
       "    </tr>\n",
       "    <tr>\n",
       "      <th>328</th>\n",
       "      <td>ae.com</td>\n",
       "      <td>11</td>\n",
       "      <td>0</td>\n",
       "      <td>0</td>\n",
       "      <td>0</td>\n",
       "      <td>9</td>\n",
       "      <td>0</td>\n",
       "      <td>site</td>\n",
       "    </tr>\n",
       "    <tr>\n",
       "      <th>375</th>\n",
       "      <td>oreilly.com</td>\n",
       "      <td>68</td>\n",
       "      <td>0</td>\n",
       "      <td>0</td>\n",
       "      <td>0</td>\n",
       "      <td>26</td>\n",
       "      <td>42</td>\n",
       "      <td>site</td>\n",
       "    </tr>\n",
       "    <tr>\n",
       "      <th>433</th>\n",
       "      <td>campusdish.com</td>\n",
       "      <td>13</td>\n",
       "      <td>0</td>\n",
       "      <td>0</td>\n",
       "      <td>0</td>\n",
       "      <td>9</td>\n",
       "      <td>4</td>\n",
       "      <td>site</td>\n",
       "    </tr>\n",
       "    <tr>\n",
       "      <th>489</th>\n",
       "      <td>Canva - Graphic Design Creator</td>\n",
       "      <td>11</td>\n",
       "      <td>0</td>\n",
       "      <td>11</td>\n",
       "      <td>0</td>\n",
       "      <td>0</td>\n",
       "      <td>0</td>\n",
       "      <td>app</td>\n",
       "    </tr>\n",
       "    <tr>\n",
       "      <th>577</th>\n",
       "      <td>timesheets.com</td>\n",
       "      <td>19</td>\n",
       "      <td>0</td>\n",
       "      <td>0</td>\n",
       "      <td>0</td>\n",
       "      <td>19</td>\n",
       "      <td>0</td>\n",
       "      <td>site</td>\n",
       "    </tr>\n",
       "  </tbody>\n",
       "</table>\n",
       "</div>"
      ],
      "text/plain": [
       "                                App  Event Count  Activate App  Custom  \\\n",
       "1                          etsy.com           31             0       0   \n",
       "3                          yelp.com           16             0       8   \n",
       "7                      linkedin.com          120             0       0   \n",
       "9                          kent.edu          109             0       4   \n",
       "10     Adobe Lightroom Photo Editor           31             0       0   \n",
       "11                      Ulta Beauty           14             0       9   \n",
       "24                          ups.com           16             0       0   \n",
       "35                     J. Crew Inc.           17             0       0   \n",
       "44                      quizlet.com          109             0       1   \n",
       "51                        shein.com           13             0       0   \n",
       "55                   luckybrand.com           12             0       0   \n",
       "57           dickssportinggoods.com           12             0       0   \n",
       "61                       burton.com           12             0       0   \n",
       "63                   eventbrite.com           40             0       0   \n",
       "84                      hubspot.com          387             0       0   \n",
       "109                    cyclebar.com           13             1       0   \n",
       "130                    spectrum.com           14             0       0   \n",
       "136             urbanoutfitters.com           13             0       4   \n",
       "137                   lululemon.com           33             0       0   \n",
       "141                     dropbox.com           11             0       0   \n",
       "175                        LinkedIn           25             0      25   \n",
       "190          TikTok - Make Your Day         1295             0     805   \n",
       "224                  freepeople.com           16             0       0   \n",
       "294                     wayfair.com           11             0       3   \n",
       "320                        cnet.com           11             0       9   \n",
       "328                          ae.com           11             0       0   \n",
       "375                     oreilly.com           68             0       0   \n",
       "433                  campusdish.com           13             0       0   \n",
       "489  Canva - Graphic Design Creator           11             0      11   \n",
       "577                  timesheets.com           19             0       0   \n",
       "\n",
       "     Ad Request  View Content  Page Views Category  \n",
       "1             0            11          20     site  \n",
       "3             0             4           4     site  \n",
       "7             0            47           0     site  \n",
       "9             0            17          88     site  \n",
       "10            0             0           0      app  \n",
       "11            0             0           0      app  \n",
       "24            0             0          16     site  \n",
       "35            0            10           7      app  \n",
       "44            0            99           1     site  \n",
       "51            0             6           4     site  \n",
       "55            0             7           5     site  \n",
       "57            0             0          11     site  \n",
       "61            0             6           6     site  \n",
       "63            0            20          19     site  \n",
       "84            0             0         127     site  \n",
       "109           0             0           7     site  \n",
       "130           0             0          13     site  \n",
       "136           0             7           2     site  \n",
       "137           0             1          32     site  \n",
       "141           0             1          10     site  \n",
       "175           0             0           0      app  \n",
       "190           0             0           0      app  \n",
       "224           0             2          14     site  \n",
       "294           0             7           1     site  \n",
       "320           0             0           2     site  \n",
       "328           0             9           0     site  \n",
       "375           0            26          42     site  \n",
       "433           0             9           4     site  \n",
       "489           0             0           0      app  \n",
       "577           0            19           0     site  "
      ]
     },
     "execution_count": 181,
     "metadata": {},
     "output_type": "execute_result"
    }
   ],
   "source": [
    "sub_apps['Category'] = cats\n",
    "sub_apps"
   ]
  },
  {
   "cell_type": "markdown",
   "metadata": {},
   "source": [
    "## 4. Data Visualization, Statistical Summaries and Analyses"
   ]
  },
  {
   "cell_type": "code",
   "execution_count": 182,
   "metadata": {},
   "outputs": [
    {
     "data": {
      "image/png": "[encoded data removed]",
      "text/plain": [
       "<Figure size 432x288 with 1 Axes>"
      ]
     },
     "metadata": {
      "needs_background": "light"
     },
     "output_type": "display_data"
    }
   ],
   "source": [
    "bins = np.linspace(0, 500, 20)\n",
    "plt.hist(sub_apps['Event Count'].loc[sub_apps['Category'] == 'app'], bins, alpha = 0.5, label = \"Apps\")\n",
    "plt.hist(sub_apps['Event Count'].loc[sub_apps['Category'] == 'site'], bins, alpha = 0.5, label = \"Websites\")\n",
    "plt.legend(loc = 'upper right')\n",
    "plt.show()"
   ]
  },
  {
   "cell_type": "code",
   "execution_count": 183,
   "metadata": {},
   "outputs": [
    {
     "data": {
      "image/png": "[encoded data removed]",
      "text/plain": [
       "<Figure size 432x288 with 1 Axes>"
      ]
     },
     "metadata": {
      "needs_background": "light"
     },
     "output_type": "display_data"
    }
   ],
   "source": [
    "bins = np.linspace(0, 500, 10)\n",
    "apps = sub_apps['Event Count'].loc[sub_apps['Category'] == 'app']\n",
    "sites = sub_apps['Event Count'].loc[sub_apps['Category'] == 'site']\n",
    "plt.hist([apps, sites], bins, label = ['Apps', 'Websites'])\n",
    "plt.legend(loc = 'upper right')\n",
    "plt.show()"
   ]
  },
  {
   "cell_type": "markdown",
   "metadata": {},
   "source": [
    "The two graphs above show that websites show more advertisements on my feed then apps.\n",
    "\n",
    "Below, I ran a ttest_ind() to show my statistical summary and analyses of my off Facebook activity."
   ]
  },
  {
   "cell_type": "code",
   "execution_count": 184,
   "metadata": {},
   "outputs": [
    {
     "data": {
      "text/plain": [
       "1.7577324193579063"
      ]
     },
     "execution_count": 184,
     "metadata": {},
     "output_type": "execute_result"
    }
   ],
   "source": [
    "ttest_eventcount = stats.ttest_ind(sub_apps['Event Count'].loc[sub_apps['Category'] == 'app'], sub_apps['Event Count'].loc[sub_apps['Category'] == 'site'])\n",
    "ttest_eventcount.statistic"
   ]
  },
  {
   "cell_type": "code",
   "execution_count": 185,
   "metadata": {},
   "outputs": [
    {
     "data": {
      "image/png": "[encoded data removed]",
      "text/plain": [
       "<Figure size 432x288 with 1 Axes>"
      ]
     },
     "metadata": {
      "needs_background": "light"
     },
     "output_type": "display_data"
    }
   ],
   "source": [
    "df1 = (len(apps) - 1) + (len(sites) - 1)\n",
    "#df2 = 100\n",
    "fig, ax1 = plt.subplots(1,1)\n",
    "x1 = np.linspace(stats.t.ppf(0.01, df1), stats.t.ppf(0.99, df1), 100)\n",
    "ax1.plot(x1, stats.t.pdf(x1, df1), 'r-', lw = 5, label = 't df = 16')\n",
    "#x2 = np.linspace(stats.t.ppf(0.01, df2), stats.t.ppf(0.99, df2), 100)\n",
    "#ax1.plot(x2, stats.t.pdf(x2, df2), 'k-', lw = 5, label = 't df = 100')\n",
    "ax1.axvline(x=ttest_eventcount.statistic, label = 'test-statistic 1.7577')\n",
    "ax1.axvline(x=-ttest_eventcount.statistic, label = '_nolegend_')\n",
    "ax1.legend(loc = 'best', frameon = False)\n",
    "plt.show()"
   ]
  },
  {
   "cell_type": "code",
   "execution_count": 186,
   "metadata": {},
   "outputs": [
    {
     "data": {
      "text/plain": [
       "0.08972248935223603"
      ]
     },
     "execution_count": 186,
     "metadata": {},
     "output_type": "execute_result"
    }
   ],
   "source": [
    "ttest_eventcount.pvalue"
   ]
  },
  {
   "cell_type": "markdown",
   "metadata": {},
   "source": [
    "The graph below shows that I have activated Facebook through more websites than apps."
   ]
  },
  {
   "cell_type": "code",
   "execution_count": 187,
   "metadata": {},
   "outputs": [
    {
     "data": {
      "image/png": "[encoded data removed]",
      "text/plain": [
       "<Figure size 432x288 with 1 Axes>"
      ]
     },
     "metadata": {
      "needs_background": "light"
     },
     "output_type": "display_data"
    }
   ],
   "source": [
    "bins = np.linspace(0, 50, 5)\n",
    "apps = sub_apps['Activate App'].loc[sub_apps['Category'] == 'app']\n",
    "sites = sub_apps['Activate App'].loc[sub_apps['Category'] == 'site']\n",
    "plt.hist([apps, sites], bins, label = ['Apps', 'Websites'])\n",
    "plt.legend(loc = 'upper right')\n",
    "plt.show()"
   ]
  },
  {
   "cell_type": "code",
   "execution_count": 188,
   "metadata": {},
   "outputs": [
    {
     "data": {
      "text/plain": [
       "Ttest_indResult(statistic=-0.4934351637951689, pvalue=0.6255533444804922)"
      ]
     },
     "execution_count": 188,
     "metadata": {},
     "output_type": "execute_result"
    }
   ],
   "source": [
    "ttest_activateapp = stats.ttest_ind(sub_apps['Activate App'].loc[sub_apps['Category'] == 'app'], sub_apps['Activate App'].loc[sub_apps['Category'] == 'site'])\n",
    "ttest_activateapp"
   ]
  },
  {
   "cell_type": "markdown",
   "metadata": {},
   "source": [
    "The graph below shows that I view more ad content from webistes than apps."
   ]
  },
  {
   "cell_type": "code",
   "execution_count": 189,
   "metadata": {},
   "outputs": [
    {
     "data": {
      "image/png": "[encoded data removed]",
      "text/plain": [
       "<Figure size 432x288 with 1 Axes>"
      ]
     },
     "metadata": {
      "needs_background": "light"
     },
     "output_type": "display_data"
    }
   ],
   "source": [
    "bins = np.linspace(0, 130, 10)\n",
    "apps = sub_apps['View Content'].loc[sub_apps['Category'] == 'app']\n",
    "sites = sub_apps['View Content'].loc[sub_apps['Category'] == 'site']\n",
    "plt.hist([apps, sites], bins, label = ['Apps', 'Websites'])\n",
    "plt.legend(loc = 'upper right')\n",
    "plt.show()"
   ]
  },
  {
   "cell_type": "code",
   "execution_count": 190,
   "metadata": {},
   "outputs": [
    {
     "data": {
      "text/plain": [
       "Ttest_indResult(statistic=-1.2080159460360296, pvalue=0.23714563299203242)"
      ]
     },
     "execution_count": 190,
     "metadata": {},
     "output_type": "execute_result"
    }
   ],
   "source": [
    "ttest_viewcontent = stats.ttest_ind(sub_apps['View Content'].loc[sub_apps['Category'] == 'app'], sub_apps['View Content'].loc[sub_apps['Category'] == 'site'])\n",
    "ttest_viewcontent"
   ]
  },
  {
   "cell_type": "markdown",
   "metadata": {},
   "source": [
    "## 5. Conclusions"
   ]
  },
  {
   "cell_type": "markdown",
   "metadata": {},
   "source": [
    "Let's revisit my hypothesis.\n",
    "\n",
    "<b>Hypothesis:</b> One way Facebook connects to non-Facebook apps is by using my Facebook credentials as login information, therefore the apps that I login with will be advertised more on my feed as well as shown in my off-Facebook activity data.\n",
    "\n",
    "From this I need to analyze my data and pull out what apps and sites I have used Facebook credentials to login with. \n",
    "\n",
    "The apps and sites I have logged in with my Facebook credentials are: <br>\n",
    "-etsy.com <br>\n",
    "-yelp.com <br>\n",
    "-eventbrite.com <br>\n",
    "-dropbox.com <br>\n",
    "-TikTok - Make Your Day <br>\n",
    "-wayfair.com <br>\n",
    "-cnet.com <br>\n",
    "-Canva - Graphic Design Creator <br>\n",
    "\n",
    "This shows that 8/30 (~27%) of the apps and sites connected to my Facebook through my login credentials show activity. According to my hypothesis, I thought that the apps or sites connected to my Facebook through my login credentials would show more ads. Let's compare the event count of the apps or sites I have logged in with my Facebook credentials vs. the apps or sites I have not.\n",
    "\n",
    "Event count for apps or sites I have logged in with Facebook credentials:<br>\n",
    "\n",
    "-etsy.com = 31<br>\n",
    "-yelp.com = 16<br>\n",
    "-eventbrite.com = 40<br>\n",
    "-dropbox.com = 11<br>\n",
    "-TikTok - Make Your Day = 1295<br>\n",
    "-wayfair.com = 11<br>\n",
    "-cnet.com = 11<br>\n",
    "-Canva - Graphic Design Creator = 11<br>\n",
    "\n",
    "<b>Event Count Total = 1,526</b>\n",
    "\n",
    "Event count for apps or sites I have <b>NOT</b> logged in with Facebook credentials:<br>\n",
    "\n",
    "-linkedin.com = 120<br>\n",
    "-kent.edu = 109<br>\n",
    "-Adobe Lightroom Photo Editor = 31<br>\n",
    "-Ulta Beauty = 14<br>\n",
    "-ups.com = 16<br>\n",
    "-J. Crew Inc. = 17<br>\n",
    "-quizlet.com = 109<br>\t\n",
    "-shein.com = 13<br>\n",
    "-luckybrand.com = 12<br>\t\n",
    "-dickssportinggoods.com = 12<br>\n",
    "-burton.com = 12<br>\n",
    "-hubspot.com = 387<br>\n",
    "-cyclebar.com = 13<br>\n",
    "-spectrum.com = 14<br>\n",
    "-urbanoutfitters.com = 13<br>\n",
    "-lululemon.com = 33<br>\n",
    "-LinkedIn = 25<br>\n",
    "-freepeople.com = 16<br>\t\n",
    "-ae.com = 11<br>\n",
    "-oreilly.com = 68<br>\n",
    "-campusdish.com = 13<br>\t\n",
    "-timesheets.com = 19\n",
    "\n",
    "<b>Event Count Total = 1,077</b>\n",
    "\n",
    "So, the event count for the apps or sites I have logged in with Facebook credentials is 1,526 and the event count for the apps or sites I have <b>NOT</b> logged in with Facebook credentials is 1,077. This shows that the apps or sites I have logged in with my Facebook credentials are advertised more on my feed. Therefore, my hypothesis was correct because I get more advertisements from apps or sites I have logged in with my Facebook credentials than apps or sites that I have <b>NOT</b> logged in with my Facebook credentials."
   ]
  },
  {
   "cell_type": "markdown",
   "metadata": {},
   "source": [
    "## 6. Limitations, Alternative Approaches, and Next Steps"
   ]
  },
  {
   "cell_type": "markdown",
   "metadata": {},
   "source": [
    "Some limitations I came across while doing this report is that I could not easily depict what apps or sites I used my Facebook login credentials to login. An alternative approach to this would be to find another data file showing this data or change my hypothesis to make this data report better. My next steps would be to find data that shows where I have used my Facebook login credentials in other apps and sites or research each site to see if I have it linked to Facebook."
   ]
  },
  {
   "cell_type": "code",
   "execution_count": null,
   "metadata": {},
   "outputs": [],
   "source": []
  }
 ],
 "metadata": {
  "kernelspec": {
   "display_name": "Python 3",
   "language": "python",
   "name": "python3"
  },
  "language_info": {
   "codemirror_mode": {
    "name": "ipython",
    "version": 3
   },
   "file_extension": ".py",
   "mimetype": "text/x-python",
   "name": "python",
   "nbconvert_exporter": "python",
   "pygments_lexer": "ipython3",
   "version": "3.9.1"
  }
 },
 "nbformat": 4,
 "nbformat_minor": 4
}
