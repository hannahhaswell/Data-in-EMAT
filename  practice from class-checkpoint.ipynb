{
 "cells": [
  {
   "cell_type": "markdown",
   "id": "unsigned-democrat",
   "metadata": {},
   "source": [
    "a = 4\n",
    "a + 6\n",
    "b = [4,5,6,7,8,9,10]\n",
    "b[0]\n"
   ]
  },
  {
   "cell_type": "markdown",
   "id": "automatic-boundary",
   "metadata": {},
   "source": [
    "## Heading\n",
    "Jupyter is fun\n",
    "\n",
    "** Italics or Bold"
   ]
  },
  {
   "cell_type": "code",
   "execution_count": null,
   "id": "plastic-interaction",
   "metadata": {},
   "outputs": [],
   "source": []
  }
 ],
 "metadata": {
  "kernelspec": {
   "display_name": "Python 3",
   "language": "python",
   "name": "python3"
  },
  "language_info": {
   "codemirror_mode": {
    "name": "ipython",
    "version": 3
   },
   "file_extension": ".py",
   "mimetype": "text/x-python",
   "name": "python",
   "nbconvert_exporter": "python",
   "pygments_lexer": "ipython3",
   "version": "3.9.1"
  }
 },
 "nbformat": 4,
 "nbformat_minor": 5
}
